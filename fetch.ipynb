{
 "cells": [
  {
   "cell_type": "markdown",
   "metadata": {},
   "source": [
    "# Import Library"
   ]
  },
  {
   "cell_type": "code",
   "execution_count": 2,
   "metadata": {},
   "outputs": [],
   "source": [
    "import pandas as pd\n",
    "import pickle\n",
    "import matplotlib.pyplot as plt\n",
    "import shap\n",
    "from scipy.stats import chi2_contingency"
   ]
  },
  {
   "cell_type": "markdown",
   "metadata": {},
   "source": [
    "# Define Path/Feature-list"
   ]
  },
  {
   "cell_type": "code",
   "execution_count": 1,
   "metadata": {},
   "outputs": [],
   "source": [
    "SHAP_IMAGE_PATH = './database/'\n",
    "SHAP_VALUE_PATH = './database/mean_shap_table.csv'\n",
    "CHI2_TABLE_PATH = './database/chi2_table.csv'\n",
    "\n",
    "PREPROCESSED_DATA_PATH = './database/data.csv'\n",
    "LABEL_DATA_PATH = './database/label.csv'\n",
    "CATEGORICAL_FEATURES = ['ChildrenInHH', 'HandsetRefurbished', 'HandsetWebCapable', 'TruckOwner', 'RVOwner',\n",
    "                      'BuysViaMailOrder', 'RespondsToMailOffers', 'OptOutMailings', 'NonUSTravel', 'OwnsComputer',\n",
    "                      'HasCreditCard', 'NewCellphoneUser', 'NotNewCellphoneUser', 'OwnsMotorcycle', 'MadeCallToRetentionTeam', \n",
    "                      \"PrizmCode\", \"Occupation\", \"MaritalStatus\", \"Division\", 'CreditRating', 'HandsetPrice', 'Homeownership']"
   ]
  },
  {
   "cell_type": "markdown",
   "metadata": {},
   "source": [
    "# Define Fetch Function"
   ]
  },
  {
   "cell_type": "code",
   "execution_count": 3,
   "metadata": {},
   "outputs": [],
   "source": [
    "def calc_shap_values(data, model):\n",
    "    # SHAP 값 계산\n",
    "    # data : 모델 학습에 사용한 x 데이터\n",
    "\n",
    "    explainer = shap.Explainer(model)\n",
    "    shap_values = explainer.shap_values(data)\n",
    "\n",
    "    return shap_values\n",
    "\n",
    "def create_mean_shap_table(data, shap_values, file_path=SHAP_VALUE_PATH):\n",
    "    # SHAP 값을 데이터프레임으로 변환\n",
    "    column_name = data.columns\n",
    "    df_list = []\n",
    "\n",
    "    df_list.append(pd.DataFrame(shap_values[:5000], columns=column_name).transpose().abs())\n",
    "    df_list.append(pd.DataFrame(shap_values[5000:10000], columns=column_name).transpose().abs())\n",
    "    df_list.append(pd.DataFrame(shap_values[10000:15000], columns=column_name).transpose().abs())\n",
    "    df_list.append(pd.DataFrame(shap_values[15000:20000], columns=column_name).transpose().abs())\n",
    "    df_list.append(pd.DataFrame(shap_values[20000:25000], columns=column_name).transpose().abs())\n",
    "    df_list.append(pd.DataFrame(shap_values[25000:30000], columns=column_name).transpose().abs())\n",
    "    df_list.append(pd.DataFrame(shap_values[30000:35000], columns=column_name).transpose().abs())\n",
    "    df_list.append(pd.DataFrame(shap_values[35000:40000], columns=column_name).transpose().abs())\n",
    "    df_list.append(pd.DataFrame(shap_values[40000:45000], columns=column_name).transpose().abs())\n",
    "    df_list.append(pd.DataFrame(shap_values[45000:], columns=column_name).transpose().abs())\n",
    "\n",
    "    shap_df = pd.concat(df_list, axis=1).mean(axis=1).sort_values(ascending=False)\n",
    "    shap_df = pd.DataFrame(shap_df)\n",
    "    shap_df.columns = ['mean(|SHAP value|)']\n",
    "\n",
    "    shap_df.to_csv(file_path)\n",
    "\n",
    "def create_shap_images(data, shap_values, feature_names):\n",
    "    shap.summary_plot(shap_values, data, feature_names=feature_names, max_display=None, show=False)\n",
    "    plt.savefig(SHAP_IMAGE_PATH+'shap_summary_plot.png', bbox_inches='tight', dpi=300)  # 파일 이름과 포맷 지정\n",
    "    plt.close()  # 플롯 닫기\n",
    "\n",
    "    shap.summary_plot(shap_values, data, feature_names=feature_names, max_display=None, show=False, plot_type=\"bar\")\n",
    "    plt.savefig(SHAP_IMAGE_PATH+'shap_summary_plot_bar.png', bbox_inches='tight', dpi=300)  # 파일 이름과 포맷 지정\n",
    "    plt.close()  # 플롯 닫기\n",
    "\n",
    "def fetch_shap_value(data, model):\n",
    "\n",
    "    shap_values = calc_shap_values(data=data, model=model)\n",
    "\n",
    "    create_mean_shap_table(data=data, shap_values=shap_values, file_path=SHAP_VALUE_PATH)\n",
    "\n",
    "    create_shap_images(data, shap_values=shap_values, feature_names=list(data.columns))\n",
    "\n",
    "def fetch_chi_square(data, label, feature_names, file_path=CHI2_TABLE_PATH):\n",
    "    # Chi-Square 검정을 통한 변수 중요도 평가\n",
    "    # data : 학습에 사용한 데이터\n",
    "    # label : 학습에 사용한 정답\n",
    "    # feature_name : 학습에 사용한 범주형 변수들 이름 리스트\n",
    "\n",
    "    chi2_stats = {}\n",
    "    for feature in feature_names:\n",
    "        if (feature != 'ServiceArea') & (feature != 'Churn'):\n",
    "            # 각 변수와 'Survived' 간의 교차표를 생성합니다.\n",
    "            contingency_table = pd.crosstab(data[feature], label)\n",
    "\n",
    "            # 카이제곱 검정 수행\n",
    "            chi2, p_value, dof, expected = chi2_contingency(contingency_table)\n",
    "\n",
    "            # 카이제곱 통계량과 p-value 저장\n",
    "            chi2_stats[feature] = {'chi2': chi2, 'p_value': p_value}\n",
    "\n",
    "    chi2_stats_df = pd.DataFrame(chi2_stats).transpose()\n",
    "    chi2_stats_df = chi2_stats_df.sort_values(by=['p_value'])\n",
    "\n",
    "    chi2_stats_df.to_csv(file_path)"
   ]
  },
  {
   "cell_type": "markdown",
   "metadata": {},
   "source": [
    "# Data Load"
   ]
  },
  {
   "cell_type": "code",
   "execution_count": 6,
   "metadata": {},
   "outputs": [],
   "source": [
    "total_data = pd.read_csv('./database/data.csv')\n",
    "\n",
    "label = pd.read_csv('./database/label.csv')"
   ]
  },
  {
   "cell_type": "markdown",
   "metadata": {},
   "source": [
    "# Fetch Feature Importance"
   ]
  },
  {
   "cell_type": "code",
   "execution_count": null,
   "metadata": {},
   "outputs": [
    {
     "name": "stderr",
     "output_type": "stream",
     "text": [
      "c:\\Users\\marti\\AppData\\Local\\anaconda3\\envs\\ml_env\\Lib\\site-packages\\sklearn\\base.py:376: InconsistentVersionWarning: Trying to unpickle estimator DecisionTreeClassifier from version 1.4.2 when using version 1.5.1. This might lead to breaking code or invalid results. Use at your own risk. For more info please refer to:\n",
      "https://scikit-learn.org/stable/model_persistence.html#security-maintainability-limitations\n",
      "  warnings.warn(\n",
      "c:\\Users\\marti\\AppData\\Local\\anaconda3\\envs\\ml_env\\Lib\\site-packages\\sklearn\\base.py:376: InconsistentVersionWarning: Trying to unpickle estimator RandomForestClassifier from version 1.4.2 when using version 1.5.1. This might lead to breaking code or invalid results. Use at your own risk. For more info please refer to:\n",
      "https://scikit-learn.org/stable/model_persistence.html#security-maintainability-limitations\n",
      "  warnings.warn(\n"
     ]
    }
   ],
   "source": [
    "from xgboost import XGBClassifier\n",
    "\n",
    "data = total_data.drop(columns=['Churn'])\n",
    "label = total_data['Churn']\n",
    "\n",
    "with open('./model/model.pkl', 'rb') as f:\n",
    "        model = pickle.load(f)\n",
    "\n",
    "# model = XGBClassifier()\n",
    "\n",
    "# model.fit()\n",
    "\n",
    "\n",
    "# shap value 변수 중요도\n",
    "data = pd.read_csv(PREPROCESSED_DATA_PATH)\n",
    "fetch_shap_value(data=data, model=model)\n",
    "\n",
    "# chi square / p-value 변수 중요도\n",
    "data = pd.read_csv(PREPROCESSED_DATA_PATH)\n",
    "label = pd.read_csv(LABEL_DATA_PATH)\n",
    "total_data = pd.concat([data, label], axis=1)\n",
    "fetch_chi_square(data=total_data, label=data['Churn'], feature_names=CATEGORICAL_FEATURES)"
   ]
  }
 ],
 "metadata": {
  "kernelspec": {
   "display_name": "ml_env",
   "language": "python",
   "name": "python3"
  },
  "language_info": {
   "codemirror_mode": {
    "name": "ipython",
    "version": 3
   },
   "file_extension": ".py",
   "mimetype": "text/x-python",
   "name": "python",
   "nbconvert_exporter": "python",
   "pygments_lexer": "ipython3",
   "version": "3.11.4"
  }
 },
 "nbformat": 4,
 "nbformat_minor": 2
}
